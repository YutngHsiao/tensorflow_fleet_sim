{
 "cells": [
  {
   "cell_type": "code",
   "execution_count": null,
   "metadata": {
    "collapsed": true
   },
   "outputs": [],
   "source": [
    "import tensorflow as tf\n",
    "import matplotlib.pyplot as plt\n",
    "import numpy as np\n",
    "from numpy import genfromtxt\n",
    "import pandas as pd\n",
    "\n",
    "train = genfromtxt('train0817.csv', delimiter=',')\n",
    "train = np.delete(train, 0, 0)\n",
    "train = np.delete(train, 0, 1)\n",
    "\n",
    "x = t1[:,0:36]\n",
    "y = t1[:,36][:, np.newaxis] # add a newdim as granular output\n",
    "\n",
    "LR = 0.01\n",
    "batchz = 1000\n",
    "epoch = 100\n",
    "datapoints = len(y)\n",
    "steps = 18000\n",
    "\n",
    "tf_x = tf.placeholder(tf.float32, x.shape)     # input x holder\n",
    "tf_y = tf.placeholder(tf.float32, y.shape)     # input y\n",
    "\n",
    "# Network layers\n",
    "L = tf.layers.dense(tf_x, 60, tf.nn.softmax)\n",
    "L = tf.layers.dense(L, 18, tf.nn.softmax)\n",
    "L = tf.layers.dense(L, 6, tf.nn.tanh)\n",
    "output = tf.layers.dense(L, 1)                     # output layer\n",
    "\n",
    "loss = tf.losses.mean_squared_error(tf_y, output)   # compute cost\n",
    "optimizer = tf.train.GradientDescentOptimizer(learning_rate=LR)\n",
    "train_op = optimizer.minimize(loss)\n",
    "\n",
    "with tf.Session() as sess:\n",
    "    sess.run(tf.global_variables_initializer())\n",
    "    for step in range(steps):\n",
    "        # train and net output\n",
    "        _, loss_, pred = sess.run([train_op, loss, output], {tf_x: x, tf_y: y})\n",
    "        if step % batchz == 0:\n",
    "            print(sess.run(loss_, {tf_x: x, tf_y: y}))\n",
    "\n",
    "    prediction = sess.run(output, {tf_x: x})\n",
    "    time_pred = pandas.DataFrame(prediction*60)\n",
    "    print(time_pred.describe())\n",
    "    o_ = pandas.DataFrame({\"pred\": np.squeeze(prediction)*60, \"ori\" : y1*60})\n",
    "    print(\"correlation\")\n",
    "    print(o_[\"pred\"].corr(o_[\"ori\"]))\n",
    "# sess = tf.Session()\n",
    "# sess.run(tf.global_variables_initializer())\n",
    "#\n",
    "# for step in range(10000):\n",
    "#     # train and net output\n",
    "#     _, l, pred = sess.run([train_op, loss, output], {tf_x: x, tf_y: y})\n",
    "#     if step % 1000 == 0:\n",
    "#         print(sess.run(loss, {tf_x: x, tf_y: y}))\n",
    "#\n",
    "#     prediction = sess.run(output, {tf_x: x})"
   ]
  }
 ],
 "metadata": {
  "kernelspec": {
   "display_name": "Python 3",
   "language": "python",
   "name": "python3"
  },
  "language_info": {
   "codemirror_mode": {
    "name": "ipython",
    "version": 3
   },
   "file_extension": ".py",
   "mimetype": "text/x-python",
   "name": "python",
   "nbconvert_exporter": "python",
   "pygments_lexer": "ipython3",
   "version": "3.5.2"
  }
 },
 "nbformat": 4,
 "nbformat_minor": 2
}
