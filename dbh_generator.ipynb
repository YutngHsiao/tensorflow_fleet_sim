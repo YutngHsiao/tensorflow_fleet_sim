{
 "cells": [
  {
   "cell_type": "code",
   "execution_count": null,
   "metadata": {
    "collapsed": true
   },
   "outputs": [],
   "source": [
    "import tensorflow as tf\n",
    "import matplotlib.pyplot as plt\n",
    "import numpy as np\n",
    "from numpy import genfromtxt\n",
    "import pandas as pd\n",
    "\n",
    "t1 = genfromtxt('train01.csv', delimiter=',')\n",
    "t1 = np.delete(t1, 0, 0)\n",
    "t1 = np.delete(t1, 0, 1)\n",
    "x1 = t1[:,0:3]\n",
    "y1 = t1[:,3]\n",
    "x1[:,0] = x1[:,0]+90/180\n",
    "x1[:,1] = x1[:,0]/3000\n",
    "x1[:,2] = (x1[:,1])+180/360\n",
    "y1 /= 60\n",
    "x = x1\n",
    "y = y1[:, np.newaxis] # add a newdim as granular output\n",
    "\n",
    "LR = 0.01\n",
    "batchz = 1000\n",
    "epoch = 100\n",
    "datapoints = len(y1)\n",
    "steps = 10000\n",
    "\n",
    "tf_x = tf.placeholder(tf.float32, x.shape)     # input x holder\n",
    "tf_y = tf.placeholder(tf.float32, y.shape)     # input y holder\n",
    "\n",
    "# Network layers\n",
    "L1 = tf.layers.dense(tf_x, 10, tf.nn.tanh)\n",
    "L2 = tf.layers.dense(L1, 2, tf.nn.tanh)\n",
    "L3 = tf.layers.dense(L2, 2, tf.nn.tanh)\n",
    "output = tf.layers.dense(L3, 1)                     # output layer\n",
    "\n",
    "loss = tf.losses.mean_squared_error(tf_y, output)   # compute cost\n",
    "optimizer = tf.train.GradientDescentOptimizer(learning_rate=LR)\n",
    "train_op = optimizer.minimize(loss)\n",
    "\n",
    "with tf.Session() as sess:\n",
    "    sess.run(tf.global_variables_initializer())\n",
    "    for step in range(steps):\n",
    "        # train and net output\n",
    "        _, l, pred = sess.run([train_op, loss, output], {tf_x: x, tf_y: y})\n",
    "        if step % batchz == 0:\n",
    "            print(sess.run(loss, {tf_x: x, tf_y: y}))\n",
    "\n",
    "    prediction = sess.run(output, {tf_x: x})\n",
    "    time_pred = pandas.DataFrame(prediction*60)\n",
    "    print(time_pred.describe())\n",
    "    o_ = pandas.DataFrame({\"pred\": np.squeeze(prediction)*60, \"ori\" : y1*60})\n",
    "    print(\"correlation\")\n",
    "    print(o_[\"pred\"].corr(o_[\"ori\"]))\n",
    "# sess = tf.Session()\n",
    "# sess.run(tf.global_variables_initializer())\n",
    "#\n",
    "# for step in range(10000):\n",
    "#     # train and net output\n",
    "#     _, l, pred = sess.run([train_op, loss, output], {tf_x: x, tf_y: y})\n",
    "#     if step % 1000 == 0:\n",
    "#         print(sess.run(loss, {tf_x: x, tf_y: y}))\n",
    "#\n",
    "#     prediction = sess.run(output, {tf_x: x})\n",
    "#     print(prediction.shape)"
   ]
  }
 ],
 "metadata": {
  "kernelspec": {
   "display_name": "Python 3",
   "language": "python",
   "name": "python3"
  },
  "language_info": {
   "codemirror_mode": {
    "name": "ipython",
    "version": 3
   },
   "file_extension": ".py",
   "mimetype": "text/x-python",
   "name": "python",
   "nbconvert_exporter": "python",
   "pygments_lexer": "ipython3",
   "version": "3.5.2"
  }
 },
 "nbformat": 4,
 "nbformat_minor": 2
}
